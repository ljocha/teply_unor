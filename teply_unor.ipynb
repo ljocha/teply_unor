{
 "cells": [
  {
   "cell_type": "code",
   "execution_count": 68,
   "id": "9c6d9543-7b10-4675-ae80-1c7000f1e76a",
   "metadata": {},
   "outputs": [],
   "source": [
    "import pandas as pd\n",
    "import scipy\n",
    "import matplotlib.pyplot as plt"
   ]
  },
  {
   "cell_type": "code",
   "execution_count": 13,
   "id": "5a98d538-8a19-44a2-a788-68aafe8205f0",
   "metadata": {},
   "outputs": [],
   "source": [
    "# https://www.chmi.cz/historicka-data/pocasi/mesicni-data/mesicni-data-dle-z.-123-1998-Sb#\n",
    "!iconv -f cp1250 -t utf-8 <B2BTUR01_T_N.csv >data.csv"
   ]
  },
  {
   "cell_type": "code",
   "execution_count": 14,
   "id": "f4eafba6-48fa-4039-9418-a1b309517468",
   "metadata": {},
   "outputs": [
    {
     "name": "stdout",
     "output_type": "stream",
     "text": [
      "#OPEN_EXPORT: 2023.05.05.1207\n",
      "#Datum vytvoření souboru: 14.02.2024 18:58\n",
      "#Stažením publikovaných dat souhlasíte s podmínkami užití těchto dat.\n",
      "\n",
      "METADATA\n",
      "Stanice ID;Jméno stanice;Začátek měření;Konec měření;Zeměpisná délka;Zeměpisná šířka;Nadmořská výška\n",
      "B2BTUR01;Brno, Tuřany;01.01.1961;31.12.1996;16.6956;49.1597;241\n",
      "B2BTUR01;Brno, Tuřany;01.01.1997;31.12.2023;16.688889;49.153056;241\n",
      "\n",
      "PŘÍSTROJE\n",
      "Přístroj;Začátek měření;Konec měření;Výška přístroje [m]\n",
      "Teploměr;01.01.1961;31.12.1996;2\n",
      "Teplotní čidlo;01.01.1997;31.10.2010;2\n",
      "Teplotní čidlo;01.11.2010;31.12.2023;2.03\n",
      "\n",
      "PRVEK\n",
      "Průměrná denní teplota vzduchu [T.AVG, °C]\n",
      "\n",
      "POPIS\n",
      "Hodnota - měsíční hodnota prvku pro daný měsíc\n",
      "Datum - datum výskytu hodnoty\n",
      "Příznak * u datumu znamená, že se hodnota vyskytla vícekrát\n",
      "Příznak I znamená, že se výpočet provedl z neúplných dat.\n",
      "\n",
      "STATISTIKA\n",
      "AVG - průměrná hodnota za měsíc\n",
      "SUM - součet za měsíc\n",
      "MAX - maximální hodnota za měsíc a den maxima\n",
      "MIN - minimální hodnota za měsíc a den minima\n",
      "\n",
      "MĚSÍČNÍ DATA\n"
     ]
    }
   ],
   "source": [
    "!head -31 data.csv"
   ]
  },
  {
   "cell_type": "code",
   "execution_count": 31,
   "id": "e0f35a20-2f59-4df7-9d86-fc5145ec018f",
   "metadata": {},
   "outputs": [],
   "source": [
    "data = pd.read_csv('data.csv',sep=';',skiprows=31)"
   ]
  },
  {
   "cell_type": "code",
   "execution_count": 94,
   "id": "6bc93168-7bc1-446d-833d-007b19b39f9a",
   "metadata": {},
   "outputs": [],
   "source": [
    "unor = data[(data['Rok'] < 2000) & (data['Statistika']=='AVG')]['Hodnota únor']"
   ]
  },
  {
   "cell_type": "code",
   "execution_count": 95,
   "id": "af678b2f-1c2b-4a7b-8f76-a836a7eaf8ec",
   "metadata": {},
   "outputs": [
    {
     "data": {
      "text/plain": [
       "(-0.18461538461538463, 2.7595326131276257)"
      ]
     },
     "execution_count": 95,
     "metadata": {},
     "output_type": "execute_result"
    }
   ],
   "source": [
    "unor.mean(),unor.std()"
   ]
  },
  {
   "cell_type": "code",
   "execution_count": 96,
   "id": "d332f53b-022b-4530-8c4d-1e00c07430c5",
   "metadata": {},
   "outputs": [
    {
     "data": {
      "image/png": "[encoded data removed]",
      "text/plain": [
       "<Figure size 640x480 with 1 Axes>"
      ]
     },
     "metadata": {},
     "output_type": "display_data"
    }
   ],
   "source": [
    "plt.hist(unor.to_numpy())\n",
    "plt.show()"
   ]
  },
  {
   "cell_type": "code",
   "execution_count": 97,
   "id": "00d5c1b4-c5d6-4082-bdf1-f47b6d33d47b",
   "metadata": {},
   "outputs": [
    {
     "data": {
      "text/plain": [
       "NormaltestResult(statistic=0.8616974209256129, pvalue=0.6499572350661325)"
      ]
     },
     "execution_count": 97,
     "metadata": {},
     "output_type": "execute_result"
    }
   ],
   "source": [
    "scipy.stats.normaltest(unor)"
   ]
  },
  {
   "cell_type": "code",
   "execution_count": 100,
   "id": "7c53f436-0c2a-40eb-a25f-ca6c98643285",
   "metadata": {},
   "outputs": [
    {
     "data": {
      "text/plain": [
       "0.016484190379218666"
      ]
     },
     "execution_count": 100,
     "metadata": {},
     "output_type": "execute_result"
    }
   ],
   "source": [
    "unor2024=5.7\n",
    "1-scipy.stats.norm.cdf(unor2024,unor.mean(),unor.std())"
   ]
  },
  {
   "cell_type": "code",
   "execution_count": null,
   "id": "a18e0b49-c71b-4387-bcf4-b83a11406e4a",
   "metadata": {},
   "outputs": [],
   "source": []
  }
 ],
 "metadata": {
  "kernelspec": {
   "display_name": "Python 3 (ipykernel)",
   "language": "python",
   "name": "python3"
  },
  "language_info": {
   "codemirror_mode": {
    "name": "ipython",
    "version": 3
   },
   "file_extension": ".py",
   "mimetype": "text/x-python",
   "name": "python",
   "nbconvert_exporter": "python",
   "pygments_lexer": "ipython3",
   "version": "3.11.6"
  }
 },
 "nbformat": 4,
 "nbformat_minor": 5
}
